{
 "cells": [
  {
   "cell_type": "code",
   "execution_count": 1,
   "id": "54715498",
   "metadata": {},
   "outputs": [],
   "source": [
    "import pandas as pd\n",
    "import numpy as np\n",
    "import matplotlib.pyplot as plt\n",
    "import seaborn as sns\n",
    "%matplotlib inline\n",
    "import os\n",
    "import warnings\n",
    "warnings.filterwarnings(\"ignore\")\n",
    "sns.set()\n",
    "from sklearn import preprocessing \n",
    "from sklearn.linear_model import LogisticRegression\n",
    "from sklearn.metrics import precision_recall_fscore_support\n"
   ]
  },
  {
   "cell_type": "code",
   "execution_count": 2,
   "id": "ee559ff5",
   "metadata": {},
   "outputs": [],
   "source": [
    "df=pd.read_excel(\"bank.xlsx\")"
   ]
  },
  {
   "cell_type": "code",
   "execution_count": 3,
   "id": "35023da2",
   "metadata": {},
   "outputs": [
    {
     "data": {
      "text/html": [
       "<div>\n",
       "<style scoped>\n",
       "    .dataframe tbody tr th:only-of-type {\n",
       "        vertical-align: middle;\n",
       "    }\n",
       "\n",
       "    .dataframe tbody tr th {\n",
       "        vertical-align: top;\n",
       "    }\n",
       "\n",
       "    .dataframe thead th {\n",
       "        text-align: right;\n",
       "    }\n",
       "</style>\n",
       "<table border=\"1\" class=\"dataframe\">\n",
       "  <thead>\n",
       "    <tr style=\"text-align: right;\">\n",
       "      <th></th>\n",
       "      <th>age</th>\n",
       "      <th>job</th>\n",
       "      <th>marital</th>\n",
       "      <th>education</th>\n",
       "      <th>default</th>\n",
       "      <th>balance</th>\n",
       "      <th>housing</th>\n",
       "      <th>loan</th>\n",
       "      <th>contact</th>\n",
       "      <th>day</th>\n",
       "      <th>month</th>\n",
       "      <th>duration</th>\n",
       "      <th>campaign</th>\n",
       "      <th>pdays</th>\n",
       "      <th>previous</th>\n",
       "      <th>poutcome</th>\n",
       "      <th>deposit</th>\n",
       "    </tr>\n",
       "  </thead>\n",
       "  <tbody>\n",
       "    <tr>\n",
       "      <th>0</th>\n",
       "      <td>59</td>\n",
       "      <td>admin.</td>\n",
       "      <td>married</td>\n",
       "      <td>secondary</td>\n",
       "      <td>no</td>\n",
       "      <td>2343</td>\n",
       "      <td>yes</td>\n",
       "      <td>no</td>\n",
       "      <td>unknown</td>\n",
       "      <td>5</td>\n",
       "      <td>may</td>\n",
       "      <td>1042</td>\n",
       "      <td>1</td>\n",
       "      <td>-1</td>\n",
       "      <td>0</td>\n",
       "      <td>unknown</td>\n",
       "      <td>yes</td>\n",
       "    </tr>\n",
       "    <tr>\n",
       "      <th>1</th>\n",
       "      <td>56</td>\n",
       "      <td>admin.</td>\n",
       "      <td>married</td>\n",
       "      <td>secondary</td>\n",
       "      <td>no</td>\n",
       "      <td>45</td>\n",
       "      <td>no</td>\n",
       "      <td>no</td>\n",
       "      <td>unknown</td>\n",
       "      <td>5</td>\n",
       "      <td>may</td>\n",
       "      <td>1467</td>\n",
       "      <td>1</td>\n",
       "      <td>-1</td>\n",
       "      <td>0</td>\n",
       "      <td>unknown</td>\n",
       "      <td>yes</td>\n",
       "    </tr>\n",
       "    <tr>\n",
       "      <th>2</th>\n",
       "      <td>41</td>\n",
       "      <td>technician</td>\n",
       "      <td>married</td>\n",
       "      <td>secondary</td>\n",
       "      <td>no</td>\n",
       "      <td>1270</td>\n",
       "      <td>yes</td>\n",
       "      <td>no</td>\n",
       "      <td>unknown</td>\n",
       "      <td>5</td>\n",
       "      <td>may</td>\n",
       "      <td>1389</td>\n",
       "      <td>1</td>\n",
       "      <td>-1</td>\n",
       "      <td>0</td>\n",
       "      <td>unknown</td>\n",
       "      <td>yes</td>\n",
       "    </tr>\n",
       "    <tr>\n",
       "      <th>3</th>\n",
       "      <td>55</td>\n",
       "      <td>services</td>\n",
       "      <td>married</td>\n",
       "      <td>secondary</td>\n",
       "      <td>no</td>\n",
       "      <td>2476</td>\n",
       "      <td>yes</td>\n",
       "      <td>no</td>\n",
       "      <td>unknown</td>\n",
       "      <td>5</td>\n",
       "      <td>may</td>\n",
       "      <td>579</td>\n",
       "      <td>1</td>\n",
       "      <td>-1</td>\n",
       "      <td>0</td>\n",
       "      <td>unknown</td>\n",
       "      <td>yes</td>\n",
       "    </tr>\n",
       "    <tr>\n",
       "      <th>4</th>\n",
       "      <td>54</td>\n",
       "      <td>admin.</td>\n",
       "      <td>married</td>\n",
       "      <td>tertiary</td>\n",
       "      <td>no</td>\n",
       "      <td>184</td>\n",
       "      <td>no</td>\n",
       "      <td>no</td>\n",
       "      <td>unknown</td>\n",
       "      <td>5</td>\n",
       "      <td>may</td>\n",
       "      <td>673</td>\n",
       "      <td>2</td>\n",
       "      <td>-1</td>\n",
       "      <td>0</td>\n",
       "      <td>unknown</td>\n",
       "      <td>yes</td>\n",
       "    </tr>\n",
       "    <tr>\n",
       "      <th>...</th>\n",
       "      <td>...</td>\n",
       "      <td>...</td>\n",
       "      <td>...</td>\n",
       "      <td>...</td>\n",
       "      <td>...</td>\n",
       "      <td>...</td>\n",
       "      <td>...</td>\n",
       "      <td>...</td>\n",
       "      <td>...</td>\n",
       "      <td>...</td>\n",
       "      <td>...</td>\n",
       "      <td>...</td>\n",
       "      <td>...</td>\n",
       "      <td>...</td>\n",
       "      <td>...</td>\n",
       "      <td>...</td>\n",
       "      <td>...</td>\n",
       "    </tr>\n",
       "    <tr>\n",
       "      <th>11157</th>\n",
       "      <td>33</td>\n",
       "      <td>blue-collar</td>\n",
       "      <td>single</td>\n",
       "      <td>primary</td>\n",
       "      <td>no</td>\n",
       "      <td>1</td>\n",
       "      <td>yes</td>\n",
       "      <td>no</td>\n",
       "      <td>cellular</td>\n",
       "      <td>20</td>\n",
       "      <td>apr</td>\n",
       "      <td>257</td>\n",
       "      <td>1</td>\n",
       "      <td>-1</td>\n",
       "      <td>0</td>\n",
       "      <td>unknown</td>\n",
       "      <td>no</td>\n",
       "    </tr>\n",
       "    <tr>\n",
       "      <th>11158</th>\n",
       "      <td>39</td>\n",
       "      <td>services</td>\n",
       "      <td>married</td>\n",
       "      <td>secondary</td>\n",
       "      <td>no</td>\n",
       "      <td>733</td>\n",
       "      <td>no</td>\n",
       "      <td>no</td>\n",
       "      <td>unknown</td>\n",
       "      <td>16</td>\n",
       "      <td>jun</td>\n",
       "      <td>83</td>\n",
       "      <td>4</td>\n",
       "      <td>-1</td>\n",
       "      <td>0</td>\n",
       "      <td>unknown</td>\n",
       "      <td>no</td>\n",
       "    </tr>\n",
       "    <tr>\n",
       "      <th>11159</th>\n",
       "      <td>32</td>\n",
       "      <td>technician</td>\n",
       "      <td>single</td>\n",
       "      <td>secondary</td>\n",
       "      <td>no</td>\n",
       "      <td>29</td>\n",
       "      <td>no</td>\n",
       "      <td>no</td>\n",
       "      <td>cellular</td>\n",
       "      <td>19</td>\n",
       "      <td>aug</td>\n",
       "      <td>156</td>\n",
       "      <td>2</td>\n",
       "      <td>-1</td>\n",
       "      <td>0</td>\n",
       "      <td>unknown</td>\n",
       "      <td>no</td>\n",
       "    </tr>\n",
       "    <tr>\n",
       "      <th>11160</th>\n",
       "      <td>43</td>\n",
       "      <td>technician</td>\n",
       "      <td>married</td>\n",
       "      <td>secondary</td>\n",
       "      <td>no</td>\n",
       "      <td>0</td>\n",
       "      <td>no</td>\n",
       "      <td>yes</td>\n",
       "      <td>cellular</td>\n",
       "      <td>8</td>\n",
       "      <td>may</td>\n",
       "      <td>9</td>\n",
       "      <td>2</td>\n",
       "      <td>172</td>\n",
       "      <td>5</td>\n",
       "      <td>failure</td>\n",
       "      <td>no</td>\n",
       "    </tr>\n",
       "    <tr>\n",
       "      <th>11161</th>\n",
       "      <td>34</td>\n",
       "      <td>technician</td>\n",
       "      <td>married</td>\n",
       "      <td>secondary</td>\n",
       "      <td>no</td>\n",
       "      <td>0</td>\n",
       "      <td>no</td>\n",
       "      <td>no</td>\n",
       "      <td>cellular</td>\n",
       "      <td>9</td>\n",
       "      <td>jul</td>\n",
       "      <td>628</td>\n",
       "      <td>1</td>\n",
       "      <td>-1</td>\n",
       "      <td>0</td>\n",
       "      <td>unknown</td>\n",
       "      <td>no</td>\n",
       "    </tr>\n",
       "  </tbody>\n",
       "</table>\n",
       "<p>11162 rows × 17 columns</p>\n",
       "</div>"
      ],
      "text/plain": [
       "       age          job  marital  education default  balance housing loan  \\\n",
       "0       59       admin.  married  secondary      no     2343     yes   no   \n",
       "1       56       admin.  married  secondary      no       45      no   no   \n",
       "2       41   technician  married  secondary      no     1270     yes   no   \n",
       "3       55     services  married  secondary      no     2476     yes   no   \n",
       "4       54       admin.  married   tertiary      no      184      no   no   \n",
       "...    ...          ...      ...        ...     ...      ...     ...  ...   \n",
       "11157   33  blue-collar   single    primary      no        1     yes   no   \n",
       "11158   39     services  married  secondary      no      733      no   no   \n",
       "11159   32   technician   single  secondary      no       29      no   no   \n",
       "11160   43   technician  married  secondary      no        0      no  yes   \n",
       "11161   34   technician  married  secondary      no        0      no   no   \n",
       "\n",
       "        contact  day month  duration  campaign  pdays  previous poutcome  \\\n",
       "0       unknown    5   may      1042         1     -1         0  unknown   \n",
       "1       unknown    5   may      1467         1     -1         0  unknown   \n",
       "2       unknown    5   may      1389         1     -1         0  unknown   \n",
       "3       unknown    5   may       579         1     -1         0  unknown   \n",
       "4       unknown    5   may       673         2     -1         0  unknown   \n",
       "...         ...  ...   ...       ...       ...    ...       ...      ...   \n",
       "11157  cellular   20   apr       257         1     -1         0  unknown   \n",
       "11158   unknown   16   jun        83         4     -1         0  unknown   \n",
       "11159  cellular   19   aug       156         2     -1         0  unknown   \n",
       "11160  cellular    8   may         9         2    172         5  failure   \n",
       "11161  cellular    9   jul       628         1     -1         0  unknown   \n",
       "\n",
       "      deposit  \n",
       "0         yes  \n",
       "1         yes  \n",
       "2         yes  \n",
       "3         yes  \n",
       "4         yes  \n",
       "...       ...  \n",
       "11157      no  \n",
       "11158      no  \n",
       "11159      no  \n",
       "11160      no  \n",
       "11161      no  \n",
       "\n",
       "[11162 rows x 17 columns]"
      ]
     },
     "execution_count": 3,
     "metadata": {},
     "output_type": "execute_result"
    }
   ],
   "source": [
    "df"
   ]
  },
  {
   "cell_type": "code",
   "execution_count": 4,
   "id": "f2df700c",
   "metadata": {},
   "outputs": [
    {
     "name": "stdout",
     "output_type": "stream",
     "text": [
      "<class 'pandas.core.frame.DataFrame'>\n",
      "RangeIndex: 11162 entries, 0 to 11161\n",
      "Data columns (total 17 columns):\n",
      " #   Column     Non-Null Count  Dtype \n",
      "---  ------     --------------  ----- \n",
      " 0   age        11162 non-null  int64 \n",
      " 1   job        11162 non-null  object\n",
      " 2   marital    11162 non-null  object\n",
      " 3   education  11162 non-null  object\n",
      " 4   default    11162 non-null  object\n",
      " 5   balance    11162 non-null  int64 \n",
      " 6   housing    11162 non-null  object\n",
      " 7   loan       11162 non-null  object\n",
      " 8   contact    11162 non-null  object\n",
      " 9   day        11162 non-null  int64 \n",
      " 10  month      11162 non-null  object\n",
      " 11  duration   11162 non-null  int64 \n",
      " 12  campaign   11162 non-null  int64 \n",
      " 13  pdays      11162 non-null  int64 \n",
      " 14  previous   11162 non-null  int64 \n",
      " 15  poutcome   11162 non-null  object\n",
      " 16  deposit    11162 non-null  object\n",
      "dtypes: int64(7), object(10)\n",
      "memory usage: 1.4+ MB\n"
     ]
    }
   ],
   "source": [
    "df.info()"
   ]
  },
  {
   "cell_type": "code",
   "execution_count": 5,
   "id": "44a6f3a4",
   "metadata": {},
   "outputs": [
    {
     "data": {
      "text/plain": [
       "0"
      ]
     },
     "execution_count": 5,
     "metadata": {},
     "output_type": "execute_result"
    }
   ],
   "source": [
    "# checking for the duplucated row and columns in data faram\n",
    "df.duplicated().sum()"
   ]
  },
  {
   "cell_type": "code",
   "execution_count": 6,
   "id": "64db8c15",
   "metadata": {},
   "outputs": [
    {
     "data": {
      "text/plain": [
       "<AxesSubplot:>"
      ]
     },
     "execution_count": 6,
     "metadata": {},
     "output_type": "execute_result"
    },
    {
     "data": {
      "image/png": "[encoded data removed]",
      "text/plain": [
       "<Figure size 432x288 with 1 Axes>"
      ]
     },
     "metadata": {},
     "output_type": "display_data"
    }
   ],
   "source": [
    "df[\"age\"].value_counts().plot()"
   ]
  },
  {
   "cell_type": "code",
   "execution_count": 7,
   "id": "8f7fe466",
   "metadata": {},
   "outputs": [
    {
     "data": {
      "text/plain": [
       "Index(['age', 'job', 'marital', 'education', 'default', 'balance', 'housing',\n",
       "       'loan', 'contact', 'day', 'month', 'duration', 'campaign', 'pdays',\n",
       "       'previous', 'poutcome', 'deposit'],\n",
       "      dtype='object')"
      ]
     },
     "execution_count": 7,
     "metadata": {},
     "output_type": "execute_result"
    }
   ],
   "source": [
    "df.columns"
   ]
  },
  {
   "cell_type": "code",
   "execution_count": 8,
   "id": "8d34acfe",
   "metadata": {},
   "outputs": [
    {
     "data": {
      "text/plain": [
       "<AxesSubplot:>"
      ]
     },
     "execution_count": 8,
     "metadata": {},
     "output_type": "execute_result"
    },
    {
     "data": {
      "image/png": "[encoded data removed]",
      "text/plain": [
       "<Figure size 432x288 with 1 Axes>"
      ]
     },
     "metadata": {},
     "output_type": "display_data"
    }
   ],
   "source": [
    "df[\"job\"].value_counts().plot()"
   ]
  },
  {
   "cell_type": "code",
   "execution_count": 9,
   "id": "4fe63d94",
   "metadata": {},
   "outputs": [
    {
     "data": {
      "text/plain": [
       "<AxesSubplot:>"
      ]
     },
     "execution_count": 9,
     "metadata": {},
     "output_type": "execute_result"
    },
    {
     "data": {
      "image/png": "[encoded data removed]",
      "text/plain": [
       "<Figure size 432x288 with 1 Axes>"
      ]
     },
     "metadata": {},
     "output_type": "display_data"
    }
   ],
   "source": [
    "df[\"education\"].value_counts().plot()"
   ]
  },
  {
   "cell_type": "code",
   "execution_count": 10,
   "id": "b8e368a9",
   "metadata": {},
   "outputs": [
    {
     "data": {
      "text/plain": [
       "no     10994\n",
       "yes      168\n",
       "Name: default, dtype: int64"
      ]
     },
     "execution_count": 10,
     "metadata": {},
     "output_type": "execute_result"
    }
   ],
   "source": [
    "df[\"default\"].value_counts(dropna=False)"
   ]
  },
  {
   "cell_type": "code",
   "execution_count": 11,
   "id": "c36106d1",
   "metadata": {},
   "outputs": [
    {
     "data": {
      "text/html": [
       "<div>\n",
       "<style scoped>\n",
       "    .dataframe tbody tr th:only-of-type {\n",
       "        vertical-align: middle;\n",
       "    }\n",
       "\n",
       "    .dataframe tbody tr th {\n",
       "        vertical-align: top;\n",
       "    }\n",
       "\n",
       "    .dataframe thead th {\n",
       "        text-align: right;\n",
       "    }\n",
       "</style>\n",
       "<table border=\"1\" class=\"dataframe\">\n",
       "  <thead>\n",
       "    <tr style=\"text-align: right;\">\n",
       "      <th></th>\n",
       "      <th>count</th>\n",
       "      <th>mean</th>\n",
       "      <th>std</th>\n",
       "      <th>min</th>\n",
       "      <th>1%</th>\n",
       "      <th>2%</th>\n",
       "      <th>3%</th>\n",
       "      <th>4%</th>\n",
       "      <th>5%</th>\n",
       "      <th>10%</th>\n",
       "      <th>25%</th>\n",
       "      <th>50%</th>\n",
       "      <th>75%</th>\n",
       "      <th>90%</th>\n",
       "      <th>95%</th>\n",
       "      <th>96%</th>\n",
       "      <th>97%</th>\n",
       "      <th>98%</th>\n",
       "      <th>99%</th>\n",
       "      <th>max</th>\n",
       "    </tr>\n",
       "  </thead>\n",
       "  <tbody>\n",
       "    <tr>\n",
       "      <th>age</th>\n",
       "      <td>11162.0</td>\n",
       "      <td>41.231948</td>\n",
       "      <td>11.913369</td>\n",
       "      <td>18.0</td>\n",
       "      <td>22.0</td>\n",
       "      <td>24.0</td>\n",
       "      <td>25.0</td>\n",
       "      <td>25.00</td>\n",
       "      <td>26.00</td>\n",
       "      <td>28.0</td>\n",
       "      <td>32.0</td>\n",
       "      <td>39.0</td>\n",
       "      <td>49.00</td>\n",
       "      <td>58.0</td>\n",
       "      <td>61.00</td>\n",
       "      <td>64.00</td>\n",
       "      <td>68.00</td>\n",
       "      <td>72.00</td>\n",
       "      <td>77.00</td>\n",
       "      <td>95.0</td>\n",
       "    </tr>\n",
       "    <tr>\n",
       "      <th>balance</th>\n",
       "      <td>11162.0</td>\n",
       "      <td>1528.538524</td>\n",
       "      <td>3225.413326</td>\n",
       "      <td>-6847.0</td>\n",
       "      <td>-522.0</td>\n",
       "      <td>-367.0</td>\n",
       "      <td>-244.0</td>\n",
       "      <td>-147.36</td>\n",
       "      <td>-54.95</td>\n",
       "      <td>0.0</td>\n",
       "      <td>122.0</td>\n",
       "      <td>550.0</td>\n",
       "      <td>1708.00</td>\n",
       "      <td>3897.6</td>\n",
       "      <td>6026.45</td>\n",
       "      <td>6987.48</td>\n",
       "      <td>8090.36</td>\n",
       "      <td>10086.00</td>\n",
       "      <td>13226.98</td>\n",
       "      <td>81204.0</td>\n",
       "    </tr>\n",
       "    <tr>\n",
       "      <th>day</th>\n",
       "      <td>11162.0</td>\n",
       "      <td>15.658036</td>\n",
       "      <td>8.420740</td>\n",
       "      <td>1.0</td>\n",
       "      <td>1.0</td>\n",
       "      <td>2.0</td>\n",
       "      <td>2.0</td>\n",
       "      <td>2.00</td>\n",
       "      <td>3.00</td>\n",
       "      <td>4.0</td>\n",
       "      <td>8.0</td>\n",
       "      <td>15.0</td>\n",
       "      <td>22.00</td>\n",
       "      <td>28.0</td>\n",
       "      <td>30.00</td>\n",
       "      <td>30.00</td>\n",
       "      <td>30.00</td>\n",
       "      <td>30.00</td>\n",
       "      <td>31.00</td>\n",
       "      <td>31.0</td>\n",
       "    </tr>\n",
       "    <tr>\n",
       "      <th>duration</th>\n",
       "      <td>11162.0</td>\n",
       "      <td>371.993818</td>\n",
       "      <td>347.128386</td>\n",
       "      <td>2.0</td>\n",
       "      <td>14.0</td>\n",
       "      <td>23.0</td>\n",
       "      <td>34.0</td>\n",
       "      <td>44.00</td>\n",
       "      <td>51.00</td>\n",
       "      <td>77.0</td>\n",
       "      <td>138.0</td>\n",
       "      <td>255.0</td>\n",
       "      <td>496.00</td>\n",
       "      <td>838.0</td>\n",
       "      <td>1079.90</td>\n",
       "      <td>1148.00</td>\n",
       "      <td>1236.17</td>\n",
       "      <td>1372.34</td>\n",
       "      <td>1577.17</td>\n",
       "      <td>3881.0</td>\n",
       "    </tr>\n",
       "    <tr>\n",
       "      <th>campaign</th>\n",
       "      <td>11162.0</td>\n",
       "      <td>2.508421</td>\n",
       "      <td>2.722077</td>\n",
       "      <td>1.0</td>\n",
       "      <td>1.0</td>\n",
       "      <td>1.0</td>\n",
       "      <td>1.0</td>\n",
       "      <td>1.00</td>\n",
       "      <td>1.00</td>\n",
       "      <td>1.0</td>\n",
       "      <td>1.0</td>\n",
       "      <td>2.0</td>\n",
       "      <td>3.00</td>\n",
       "      <td>5.0</td>\n",
       "      <td>7.00</td>\n",
       "      <td>8.00</td>\n",
       "      <td>8.00</td>\n",
       "      <td>10.00</td>\n",
       "      <td>13.00</td>\n",
       "      <td>63.0</td>\n",
       "    </tr>\n",
       "    <tr>\n",
       "      <th>pdays</th>\n",
       "      <td>11162.0</td>\n",
       "      <td>51.330407</td>\n",
       "      <td>108.758282</td>\n",
       "      <td>-1.0</td>\n",
       "      <td>-1.0</td>\n",
       "      <td>-1.0</td>\n",
       "      <td>-1.0</td>\n",
       "      <td>-1.00</td>\n",
       "      <td>-1.00</td>\n",
       "      <td>-1.0</td>\n",
       "      <td>-1.0</td>\n",
       "      <td>-1.0</td>\n",
       "      <td>20.75</td>\n",
       "      <td>191.0</td>\n",
       "      <td>326.00</td>\n",
       "      <td>343.00</td>\n",
       "      <td>355.00</td>\n",
       "      <td>369.00</td>\n",
       "      <td>425.39</td>\n",
       "      <td>854.0</td>\n",
       "    </tr>\n",
       "    <tr>\n",
       "      <th>previous</th>\n",
       "      <td>11162.0</td>\n",
       "      <td>0.832557</td>\n",
       "      <td>2.292007</td>\n",
       "      <td>0.0</td>\n",
       "      <td>0.0</td>\n",
       "      <td>0.0</td>\n",
       "      <td>0.0</td>\n",
       "      <td>0.00</td>\n",
       "      <td>0.00</td>\n",
       "      <td>0.0</td>\n",
       "      <td>0.0</td>\n",
       "      <td>0.0</td>\n",
       "      <td>1.00</td>\n",
       "      <td>3.0</td>\n",
       "      <td>5.00</td>\n",
       "      <td>5.00</td>\n",
       "      <td>6.00</td>\n",
       "      <td>7.00</td>\n",
       "      <td>10.00</td>\n",
       "      <td>58.0</td>\n",
       "    </tr>\n",
       "  </tbody>\n",
       "</table>\n",
       "</div>"
      ],
      "text/plain": [
       "            count         mean          std     min     1%     2%     3%  \\\n",
       "age       11162.0    41.231948    11.913369    18.0   22.0   24.0   25.0   \n",
       "balance   11162.0  1528.538524  3225.413326 -6847.0 -522.0 -367.0 -244.0   \n",
       "day       11162.0    15.658036     8.420740     1.0    1.0    2.0    2.0   \n",
       "duration  11162.0   371.993818   347.128386     2.0   14.0   23.0   34.0   \n",
       "campaign  11162.0     2.508421     2.722077     1.0    1.0    1.0    1.0   \n",
       "pdays     11162.0    51.330407   108.758282    -1.0   -1.0   -1.0   -1.0   \n",
       "previous  11162.0     0.832557     2.292007     0.0    0.0    0.0    0.0   \n",
       "\n",
       "              4%     5%   10%    25%    50%      75%     90%      95%  \\\n",
       "age        25.00  26.00  28.0   32.0   39.0    49.00    58.0    61.00   \n",
       "balance  -147.36 -54.95   0.0  122.0  550.0  1708.00  3897.6  6026.45   \n",
       "day         2.00   3.00   4.0    8.0   15.0    22.00    28.0    30.00   \n",
       "duration   44.00  51.00  77.0  138.0  255.0   496.00   838.0  1079.90   \n",
       "campaign    1.00   1.00   1.0    1.0    2.0     3.00     5.0     7.00   \n",
       "pdays      -1.00  -1.00  -1.0   -1.0   -1.0    20.75   191.0   326.00   \n",
       "previous    0.00   0.00   0.0    0.0    0.0     1.00     3.0     5.00   \n",
       "\n",
       "              96%      97%       98%       99%      max  \n",
       "age         64.00    68.00     72.00     77.00     95.0  \n",
       "balance   6987.48  8090.36  10086.00  13226.98  81204.0  \n",
       "day         30.00    30.00     30.00     31.00     31.0  \n",
       "duration  1148.00  1236.17   1372.34   1577.17   3881.0  \n",
       "campaign     8.00     8.00     10.00     13.00     63.0  \n",
       "pdays      343.00   355.00    369.00    425.39    854.0  \n",
       "previous     5.00     6.00      7.00     10.00     58.0  "
      ]
     },
     "execution_count": 11,
     "metadata": {},
     "output_type": "execute_result"
    }
   ],
   "source": [
    "df.describe(percentiles=[0.01, 0.02,0.03, 0.04, 0.05, 0.1, .25, .5, .75, .9, .95, .96, .97, .98, .99]).T"
   ]
  },
  {
   "cell_type": "code",
   "execution_count": 12,
   "id": "dcea8ae9",
   "metadata": {},
   "outputs": [
    {
     "data": {
      "text/plain": [
       "{'whiskers': [<matplotlib.lines.Line2D at 0x250b16414c0>,\n",
       "  <matplotlib.lines.Line2D at 0x250b1641850>],\n",
       " 'caps': [<matplotlib.lines.Line2D at 0x250b1641be0>,\n",
       "  <matplotlib.lines.Line2D at 0x250b1641f70>],\n",
       " 'boxes': [<matplotlib.lines.Line2D at 0x250b1641100>],\n",
       " 'medians': [<matplotlib.lines.Line2D at 0x250b1627340>],\n",
       " 'fliers': [<matplotlib.lines.Line2D at 0x250b16276d0>],\n",
       " 'means': []}"
      ]
     },
     "execution_count": 12,
     "metadata": {},
     "output_type": "execute_result"
    },
    {
     "data": {
      "image/png": "[encoded data removed]",
      "text/plain": [
       "<Figure size 432x288 with 1 Axes>"
      ]
     },
     "metadata": {},
     "output_type": "display_data"
    }
   ],
   "source": [
    "plt.boxplot(df[\"age\"])"
   ]
  },
  {
   "cell_type": "code",
   "execution_count": 13,
   "id": "19962481",
   "metadata": {},
   "outputs": [],
   "source": [
    "df[\"age\"]=np.where(df[\"age\"]>75, 75,df[\"age\"])"
   ]
  },
  {
   "cell_type": "code",
   "execution_count": 14,
   "id": "82151f2b",
   "metadata": {},
   "outputs": [
    {
     "data": {
      "text/plain": [
       "{'whiskers': [<matplotlib.lines.Line2D at 0x250b1754be0>,\n",
       "  <matplotlib.lines.Line2D at 0x250b1754f70>],\n",
       " 'caps': [<matplotlib.lines.Line2D at 0x250b1763340>,\n",
       "  <matplotlib.lines.Line2D at 0x250b17636d0>],\n",
       " 'boxes': [<matplotlib.lines.Line2D at 0x250b1754850>],\n",
       " 'medians': [<matplotlib.lines.Line2D at 0x250b1763a60>],\n",
       " 'fliers': [<matplotlib.lines.Line2D at 0x250b1763df0>],\n",
       " 'means': []}"
      ]
     },
     "execution_count": 14,
     "metadata": {},
     "output_type": "execute_result"
    },
    {
     "data": {
      "image/png": "[encoded data removed]",
      "text/plain": [
       "<Figure size 432x288 with 1 Axes>"
      ]
     },
     "metadata": {},
     "output_type": "display_data"
    }
   ],
   "source": [
    "plt.boxplot(df[\"age\"])"
   ]
  },
  {
   "cell_type": "code",
   "execution_count": 15,
   "id": "bcf157f6",
   "metadata": {},
   "outputs": [
    {
     "data": {
      "text/plain": [
       "{'whiskers': [<matplotlib.lines.Line2D at 0x250b18c84f0>,\n",
       "  <matplotlib.lines.Line2D at 0x250b18c8880>],\n",
       " 'caps': [<matplotlib.lines.Line2D at 0x250b18c8c10>,\n",
       "  <matplotlib.lines.Line2D at 0x250b18c8fa0>],\n",
       " 'boxes': [<matplotlib.lines.Line2D at 0x250b18c81c0>],\n",
       " 'medians': [<matplotlib.lines.Line2D at 0x250b1563370>],\n",
       " 'fliers': [<matplotlib.lines.Line2D at 0x250b1563730>],\n",
       " 'means': []}"
      ]
     },
     "execution_count": 15,
     "metadata": {},
     "output_type": "execute_result"
    },
    {
     "data": {
      "image/png": "[encoded data removed]",
      "text/plain": [
       "<Figure size 432x288 with 1 Axes>"
      ]
     },
     "metadata": {},
     "output_type": "display_data"
    }
   ],
   "source": [
    "plt.boxplot(df[\"balance\"])"
   ]
  },
  {
   "cell_type": "code",
   "execution_count": 16,
   "id": "6a19a6cb",
   "metadata": {},
   "outputs": [],
   "source": [
    "df[\"balance\"]=np.where(df[\"balance\"]>40000, 40000,df[\"balance\"])"
   ]
  },
  {
   "cell_type": "code",
   "execution_count": 17,
   "id": "da907aa1",
   "metadata": {},
   "outputs": [
    {
     "data": {
      "text/plain": [
       "{'whiskers': [<matplotlib.lines.Line2D at 0x250b15c8bb0>,\n",
       "  <matplotlib.lines.Line2D at 0x250b15c8f40>],\n",
       " 'caps': [<matplotlib.lines.Line2D at 0x250b15b5310>,\n",
       "  <matplotlib.lines.Line2D at 0x250b15b56a0>],\n",
       " 'boxes': [<matplotlib.lines.Line2D at 0x250b15c87f0>],\n",
       " 'medians': [<matplotlib.lines.Line2D at 0x250b15b5a30>],\n",
       " 'fliers': [<matplotlib.lines.Line2D at 0x250b15b5dc0>],\n",
       " 'means': []}"
      ]
     },
     "execution_count": 17,
     "metadata": {},
     "output_type": "execute_result"
    },
    {
     "data": {
      "image/png": "[encoded data removed]",
      "text/plain": [
       "<Figure size 432x288 with 1 Axes>"
      ]
     },
     "metadata": {},
     "output_type": "display_data"
    }
   ],
   "source": [
    "plt.boxplot(df[\"balance\"])"
   ]
  },
  {
   "cell_type": "code",
   "execution_count": 18,
   "id": "55a94d55",
   "metadata": {},
   "outputs": [
    {
     "data": {
      "text/plain": [
       "Index(['age', 'job', 'marital', 'education', 'default', 'balance', 'housing',\n",
       "       'loan', 'contact', 'day', 'month', 'duration', 'campaign', 'pdays',\n",
       "       'previous', 'poutcome', 'deposit'],\n",
       "      dtype='object')"
      ]
     },
     "execution_count": 18,
     "metadata": {},
     "output_type": "execute_result"
    }
   ],
   "source": [
    "df.columns"
   ]
  },
  {
   "cell_type": "code",
   "execution_count": 19,
   "id": "94353178",
   "metadata": {},
   "outputs": [
    {
     "data": {
      "text/plain": [
       "{'whiskers': [<matplotlib.lines.Line2D at 0x250b2f463a0>,\n",
       "  <matplotlib.lines.Line2D at 0x250b2f46730>],\n",
       " 'caps': [<matplotlib.lines.Line2D at 0x250b2f46ac0>,\n",
       "  <matplotlib.lines.Line2D at 0x250b2f46e50>],\n",
       " 'boxes': [<matplotlib.lines.Line2D at 0x250b1542fd0>],\n",
       " 'medians': [<matplotlib.lines.Line2D at 0x250b2f52220>],\n",
       " 'fliers': [<matplotlib.lines.Line2D at 0x250b2f525b0>],\n",
       " 'means': []}"
      ]
     },
     "execution_count": 19,
     "metadata": {},
     "output_type": "execute_result"
    },
    {
     "data": {
      "image/png": "[encoded data removed]",
      "text/plain": [
       "<Figure size 432x288 with 1 Axes>"
      ]
     },
     "metadata": {},
     "output_type": "display_data"
    }
   ],
   "source": [
    "plt.boxplot(df[\"duration\"])"
   ]
  },
  {
   "cell_type": "code",
   "execution_count": 20,
   "id": "38ba6a70",
   "metadata": {},
   "outputs": [],
   "source": [
    "df[\"duration\"]=np.where(df[\"duration\"]>3500, 3500,df[\"duration\"])"
   ]
  },
  {
   "cell_type": "code",
   "execution_count": 21,
   "id": "ed885c82",
   "metadata": {},
   "outputs": [
    {
     "data": {
      "text/plain": [
       "{'whiskers': [<matplotlib.lines.Line2D at 0x250b2fb80d0>,\n",
       "  <matplotlib.lines.Line2D at 0x250b2fb8460>],\n",
       " 'caps': [<matplotlib.lines.Line2D at 0x250b2fb87f0>,\n",
       "  <matplotlib.lines.Line2D at 0x250b2fb8b80>],\n",
       " 'boxes': [<matplotlib.lines.Line2D at 0x250b2fabd00>],\n",
       " 'medians': [<matplotlib.lines.Line2D at 0x250b2fb8f40>],\n",
       " 'fliers': [<matplotlib.lines.Line2D at 0x250b2fc3310>],\n",
       " 'means': []}"
      ]
     },
     "execution_count": 21,
     "metadata": {},
     "output_type": "execute_result"
    },
    {
     "data": {
      "image/png": "[encoded data removed]",
      "text/plain": [
       "<Figure size 432x288 with 1 Axes>"
      ]
     },
     "metadata": {},
     "output_type": "display_data"
    }
   ],
   "source": [
    "plt.boxplot(df[\"duration\"])"
   ]
  },
  {
   "cell_type": "code",
   "execution_count": 22,
   "id": "4c778979",
   "metadata": {},
   "outputs": [
    {
     "data": {
      "text/plain": [
       "{'whiskers': [<matplotlib.lines.Line2D at 0x250b301d910>,\n",
       "  <matplotlib.lines.Line2D at 0x250b301dca0>],\n",
       " 'caps': [<matplotlib.lines.Line2D at 0x250b302c070>,\n",
       "  <matplotlib.lines.Line2D at 0x250b302c3a0>],\n",
       " 'boxes': [<matplotlib.lines.Line2D at 0x250b301d580>],\n",
       " 'medians': [<matplotlib.lines.Line2D at 0x250b302c730>],\n",
       " 'fliers': [<matplotlib.lines.Line2D at 0x250b302cac0>],\n",
       " 'means': []}"
      ]
     },
     "execution_count": 22,
     "metadata": {},
     "output_type": "execute_result"
    },
    {
     "data": {
      "image/png": "[encoded data removed]",
      "text/plain": [
       "<Figure size 432x288 with 1 Axes>"
      ]
     },
     "metadata": {},
     "output_type": "display_data"
    }
   ],
   "source": [
    "plt.boxplot(df[\"campaign\"])"
   ]
  },
  {
   "cell_type": "code",
   "execution_count": 23,
   "id": "e38e9ac6",
   "metadata": {},
   "outputs": [],
   "source": [
    "df[\"campaign\"]=np.where(df[\"campaign\"]>33, 33,df[\"campaign\"])"
   ]
  },
  {
   "cell_type": "code",
   "execution_count": 24,
   "id": "29a7a28d",
   "metadata": {},
   "outputs": [
    {
     "data": {
      "text/plain": [
       "{'whiskers': [<matplotlib.lines.Line2D at 0x250b3089970>,\n",
       "  <matplotlib.lines.Line2D at 0x250b3089d00>],\n",
       " 'caps': [<matplotlib.lines.Line2D at 0x250b30920d0>,\n",
       "  <matplotlib.lines.Line2D at 0x250b3092460>],\n",
       " 'boxes': [<matplotlib.lines.Line2D at 0x250b30895e0>],\n",
       " 'medians': [<matplotlib.lines.Line2D at 0x250b30927f0>],\n",
       " 'fliers': [<matplotlib.lines.Line2D at 0x250b3092b80>],\n",
       " 'means': []}"
      ]
     },
     "execution_count": 24,
     "metadata": {},
     "output_type": "execute_result"
    },
    {
     "data": {
      "image/png": "[encoded data removed]",
      "text/plain": [
       "<Figure size 432x288 with 1 Axes>"
      ]
     },
     "metadata": {},
     "output_type": "display_data"
    }
   ],
   "source": [
    "plt.boxplot(df[\"campaign\"])"
   ]
  },
  {
   "cell_type": "code",
   "execution_count": 25,
   "id": "d8aee532",
   "metadata": {},
   "outputs": [
    {
     "data": {
      "text/plain": [
       "{'whiskers': [<matplotlib.lines.Line2D at 0x250b30eeb20>,\n",
       "  <matplotlib.lines.Line2D at 0x250b30eeeb0>],\n",
       " 'caps': [<matplotlib.lines.Line2D at 0x250b30fc280>,\n",
       "  <matplotlib.lines.Line2D at 0x250b30fc610>],\n",
       " 'boxes': [<matplotlib.lines.Line2D at 0x250b30ee790>],\n",
       " 'medians': [<matplotlib.lines.Line2D at 0x250b30fc9a0>],\n",
       " 'fliers': [<matplotlib.lines.Line2D at 0x250b30fcd30>],\n",
       " 'means': []}"
      ]
     },
     "execution_count": 25,
     "metadata": {},
     "output_type": "execute_result"
    },
    {
     "data": {
      "image/png": "[encoded data removed]",
      "text/plain": [
       "<Figure size 432x288 with 1 Axes>"
      ]
     },
     "metadata": {},
     "output_type": "display_data"
    }
   ],
   "source": [
    "plt.boxplot(df[\"pdays\"])"
   ]
  },
  {
   "cell_type": "code",
   "execution_count": 26,
   "id": "c12648f9",
   "metadata": {},
   "outputs": [
    {
     "data": {
      "text/plain": [
       "{'whiskers': [<matplotlib.lines.Line2D at 0x250b315a130>,\n",
       "  <matplotlib.lines.Line2D at 0x250b315a4c0>],\n",
       " 'caps': [<matplotlib.lines.Line2D at 0x250b315a850>,\n",
       "  <matplotlib.lines.Line2D at 0x250b315abe0>],\n",
       " 'boxes': [<matplotlib.lines.Line2D at 0x250b314ad60>],\n",
       " 'medians': [<matplotlib.lines.Line2D at 0x250b315af70>],\n",
       " 'fliers': [<matplotlib.lines.Line2D at 0x250b3168340>],\n",
       " 'means': []}"
      ]
     },
     "execution_count": 26,
     "metadata": {},
     "output_type": "execute_result"
    },
    {
     "data": {
      "image/png": "[encoded data removed]",
      "text/plain": [
       "<Figure size 432x288 with 1 Axes>"
      ]
     },
     "metadata": {},
     "output_type": "display_data"
    }
   ],
   "source": [
    "plt.boxplot(df[\"previous\"])"
   ]
  },
  {
   "cell_type": "code",
   "execution_count": 27,
   "id": "f2d3176b",
   "metadata": {},
   "outputs": [],
   "source": [
    "df[\"previous\"]=np.where(df[\"previous\"]> 30, 30,df[\"previous\"])"
   ]
  },
  {
   "cell_type": "code",
   "execution_count": 28,
   "id": "4a8a432d",
   "metadata": {},
   "outputs": [
    {
     "data": {
      "text/plain": [
       "{'whiskers': [<matplotlib.lines.Line2D at 0x250b31b2fa0>,\n",
       "  <matplotlib.lines.Line2D at 0x250b31c1370>],\n",
       " 'caps': [<matplotlib.lines.Line2D at 0x250b31c1700>,\n",
       "  <matplotlib.lines.Line2D at 0x250b31c1a90>],\n",
       " 'boxes': [<matplotlib.lines.Line2D at 0x250b31b2c10>],\n",
       " 'medians': [<matplotlib.lines.Line2D at 0x250b31c1e20>],\n",
       " 'fliers': [<matplotlib.lines.Line2D at 0x250b31cc1f0>],\n",
       " 'means': []}"
      ]
     },
     "execution_count": 28,
     "metadata": {},
     "output_type": "execute_result"
    },
    {
     "data": {
      "image/png": "[encoded data removed]",
      "text/plain": [
       "<Figure size 432x288 with 1 Axes>"
      ]
     },
     "metadata": {},
     "output_type": "display_data"
    }
   ],
   "source": [
    "plt.boxplot(df[\"previous\"])"
   ]
  },
  {
   "cell_type": "code",
   "execution_count": 29,
   "id": "775f8915",
   "metadata": {},
   "outputs": [
    {
     "name": "stdout",
     "output_type": "stream",
     "text": [
      "<class 'pandas.core.frame.DataFrame'>\n",
      "RangeIndex: 11162 entries, 0 to 11161\n",
      "Data columns (total 17 columns):\n",
      " #   Column     Non-Null Count  Dtype \n",
      "---  ------     --------------  ----- \n",
      " 0   age        11162 non-null  int64 \n",
      " 1   job        11162 non-null  object\n",
      " 2   marital    11162 non-null  object\n",
      " 3   education  11162 non-null  object\n",
      " 4   default    11162 non-null  object\n",
      " 5   balance    11162 non-null  int64 \n",
      " 6   housing    11162 non-null  object\n",
      " 7   loan       11162 non-null  object\n",
      " 8   contact    11162 non-null  object\n",
      " 9   day        11162 non-null  int64 \n",
      " 10  month      11162 non-null  object\n",
      " 11  duration   11162 non-null  int64 \n",
      " 12  campaign   11162 non-null  int64 \n",
      " 13  pdays      11162 non-null  int64 \n",
      " 14  previous   11162 non-null  int64 \n",
      " 15  poutcome   11162 non-null  object\n",
      " 16  deposit    11162 non-null  object\n",
      "dtypes: int64(7), object(10)\n",
      "memory usage: 1.4+ MB\n"
     ]
    }
   ],
   "source": [
    "df.info()"
   ]
  },
  {
   "cell_type": "code",
   "execution_count": 30,
   "id": "3609d00c",
   "metadata": {},
   "outputs": [],
   "source": [
    "from sklearn.preprocessing import LabelEncoder"
   ]
  },
  {
   "cell_type": "code",
   "execution_count": 31,
   "id": "6277cc4c",
   "metadata": {},
   "outputs": [],
   "source": [
    "df[\"default\"]=LabelEncoder().fit_transform(df.deposit)"
   ]
  },
  {
   "cell_type": "code",
   "execution_count": 32,
   "id": "b0da30a8",
   "metadata": {},
   "outputs": [
    {
     "data": {
      "text/html": [
       "<div>\n",
       "<style scoped>\n",
       "    .dataframe tbody tr th:only-of-type {\n",
       "        vertical-align: middle;\n",
       "    }\n",
       "\n",
       "    .dataframe tbody tr th {\n",
       "        vertical-align: top;\n",
       "    }\n",
       "\n",
       "    .dataframe thead th {\n",
       "        text-align: right;\n",
       "    }\n",
       "</style>\n",
       "<table border=\"1\" class=\"dataframe\">\n",
       "  <thead>\n",
       "    <tr style=\"text-align: right;\">\n",
       "      <th></th>\n",
       "      <th>age</th>\n",
       "      <th>job</th>\n",
       "      <th>marital</th>\n",
       "      <th>education</th>\n",
       "      <th>default</th>\n",
       "      <th>balance</th>\n",
       "      <th>housing</th>\n",
       "      <th>loan</th>\n",
       "      <th>contact</th>\n",
       "      <th>day</th>\n",
       "      <th>month</th>\n",
       "      <th>duration</th>\n",
       "      <th>campaign</th>\n",
       "      <th>pdays</th>\n",
       "      <th>previous</th>\n",
       "      <th>poutcome</th>\n",
       "      <th>deposit</th>\n",
       "    </tr>\n",
       "  </thead>\n",
       "  <tbody>\n",
       "    <tr>\n",
       "      <th>0</th>\n",
       "      <td>59</td>\n",
       "      <td>admin.</td>\n",
       "      <td>married</td>\n",
       "      <td>secondary</td>\n",
       "      <td>1</td>\n",
       "      <td>2343</td>\n",
       "      <td>yes</td>\n",
       "      <td>no</td>\n",
       "      <td>unknown</td>\n",
       "      <td>5</td>\n",
       "      <td>may</td>\n",
       "      <td>1042</td>\n",
       "      <td>1</td>\n",
       "      <td>-1</td>\n",
       "      <td>0</td>\n",
       "      <td>unknown</td>\n",
       "      <td>yes</td>\n",
       "    </tr>\n",
       "    <tr>\n",
       "      <th>1</th>\n",
       "      <td>56</td>\n",
       "      <td>admin.</td>\n",
       "      <td>married</td>\n",
       "      <td>secondary</td>\n",
       "      <td>1</td>\n",
       "      <td>45</td>\n",
       "      <td>no</td>\n",
       "      <td>no</td>\n",
       "      <td>unknown</td>\n",
       "      <td>5</td>\n",
       "      <td>may</td>\n",
       "      <td>1467</td>\n",
       "      <td>1</td>\n",
       "      <td>-1</td>\n",
       "      <td>0</td>\n",
       "      <td>unknown</td>\n",
       "      <td>yes</td>\n",
       "    </tr>\n",
       "    <tr>\n",
       "      <th>2</th>\n",
       "      <td>41</td>\n",
       "      <td>technician</td>\n",
       "      <td>married</td>\n",
       "      <td>secondary</td>\n",
       "      <td>1</td>\n",
       "      <td>1270</td>\n",
       "      <td>yes</td>\n",
       "      <td>no</td>\n",
       "      <td>unknown</td>\n",
       "      <td>5</td>\n",
       "      <td>may</td>\n",
       "      <td>1389</td>\n",
       "      <td>1</td>\n",
       "      <td>-1</td>\n",
       "      <td>0</td>\n",
       "      <td>unknown</td>\n",
       "      <td>yes</td>\n",
       "    </tr>\n",
       "    <tr>\n",
       "      <th>3</th>\n",
       "      <td>55</td>\n",
       "      <td>services</td>\n",
       "      <td>married</td>\n",
       "      <td>secondary</td>\n",
       "      <td>1</td>\n",
       "      <td>2476</td>\n",
       "      <td>yes</td>\n",
       "      <td>no</td>\n",
       "      <td>unknown</td>\n",
       "      <td>5</td>\n",
       "      <td>may</td>\n",
       "      <td>579</td>\n",
       "      <td>1</td>\n",
       "      <td>-1</td>\n",
       "      <td>0</td>\n",
       "      <td>unknown</td>\n",
       "      <td>yes</td>\n",
       "    </tr>\n",
       "    <tr>\n",
       "      <th>4</th>\n",
       "      <td>54</td>\n",
       "      <td>admin.</td>\n",
       "      <td>married</td>\n",
       "      <td>tertiary</td>\n",
       "      <td>1</td>\n",
       "      <td>184</td>\n",
       "      <td>no</td>\n",
       "      <td>no</td>\n",
       "      <td>unknown</td>\n",
       "      <td>5</td>\n",
       "      <td>may</td>\n",
       "      <td>673</td>\n",
       "      <td>2</td>\n",
       "      <td>-1</td>\n",
       "      <td>0</td>\n",
       "      <td>unknown</td>\n",
       "      <td>yes</td>\n",
       "    </tr>\n",
       "    <tr>\n",
       "      <th>...</th>\n",
       "      <td>...</td>\n",
       "      <td>...</td>\n",
       "      <td>...</td>\n",
       "      <td>...</td>\n",
       "      <td>...</td>\n",
       "      <td>...</td>\n",
       "      <td>...</td>\n",
       "      <td>...</td>\n",
       "      <td>...</td>\n",
       "      <td>...</td>\n",
       "      <td>...</td>\n",
       "      <td>...</td>\n",
       "      <td>...</td>\n",
       "      <td>...</td>\n",
       "      <td>...</td>\n",
       "      <td>...</td>\n",
       "      <td>...</td>\n",
       "    </tr>\n",
       "    <tr>\n",
       "      <th>11157</th>\n",
       "      <td>33</td>\n",
       "      <td>blue-collar</td>\n",
       "      <td>single</td>\n",
       "      <td>primary</td>\n",
       "      <td>0</td>\n",
       "      <td>1</td>\n",
       "      <td>yes</td>\n",
       "      <td>no</td>\n",
       "      <td>cellular</td>\n",
       "      <td>20</td>\n",
       "      <td>apr</td>\n",
       "      <td>257</td>\n",
       "      <td>1</td>\n",
       "      <td>-1</td>\n",
       "      <td>0</td>\n",
       "      <td>unknown</td>\n",
       "      <td>no</td>\n",
       "    </tr>\n",
       "    <tr>\n",
       "      <th>11158</th>\n",
       "      <td>39</td>\n",
       "      <td>services</td>\n",
       "      <td>married</td>\n",
       "      <td>secondary</td>\n",
       "      <td>0</td>\n",
       "      <td>733</td>\n",
       "      <td>no</td>\n",
       "      <td>no</td>\n",
       "      <td>unknown</td>\n",
       "      <td>16</td>\n",
       "      <td>jun</td>\n",
       "      <td>83</td>\n",
       "      <td>4</td>\n",
       "      <td>-1</td>\n",
       "      <td>0</td>\n",
       "      <td>unknown</td>\n",
       "      <td>no</td>\n",
       "    </tr>\n",
       "    <tr>\n",
       "      <th>11159</th>\n",
       "      <td>32</td>\n",
       "      <td>technician</td>\n",
       "      <td>single</td>\n",
       "      <td>secondary</td>\n",
       "      <td>0</td>\n",
       "      <td>29</td>\n",
       "      <td>no</td>\n",
       "      <td>no</td>\n",
       "      <td>cellular</td>\n",
       "      <td>19</td>\n",
       "      <td>aug</td>\n",
       "      <td>156</td>\n",
       "      <td>2</td>\n",
       "      <td>-1</td>\n",
       "      <td>0</td>\n",
       "      <td>unknown</td>\n",
       "      <td>no</td>\n",
       "    </tr>\n",
       "    <tr>\n",
       "      <th>11160</th>\n",
       "      <td>43</td>\n",
       "      <td>technician</td>\n",
       "      <td>married</td>\n",
       "      <td>secondary</td>\n",
       "      <td>0</td>\n",
       "      <td>0</td>\n",
       "      <td>no</td>\n",
       "      <td>yes</td>\n",
       "      <td>cellular</td>\n",
       "      <td>8</td>\n",
       "      <td>may</td>\n",
       "      <td>9</td>\n",
       "      <td>2</td>\n",
       "      <td>172</td>\n",
       "      <td>5</td>\n",
       "      <td>failure</td>\n",
       "      <td>no</td>\n",
       "    </tr>\n",
       "    <tr>\n",
       "      <th>11161</th>\n",
       "      <td>34</td>\n",
       "      <td>technician</td>\n",
       "      <td>married</td>\n",
       "      <td>secondary</td>\n",
       "      <td>0</td>\n",
       "      <td>0</td>\n",
       "      <td>no</td>\n",
       "      <td>no</td>\n",
       "      <td>cellular</td>\n",
       "      <td>9</td>\n",
       "      <td>jul</td>\n",
       "      <td>628</td>\n",
       "      <td>1</td>\n",
       "      <td>-1</td>\n",
       "      <td>0</td>\n",
       "      <td>unknown</td>\n",
       "      <td>no</td>\n",
       "    </tr>\n",
       "  </tbody>\n",
       "</table>\n",
       "<p>11162 rows × 17 columns</p>\n",
       "</div>"
      ],
      "text/plain": [
       "       age          job  marital  education  default  balance housing loan  \\\n",
       "0       59       admin.  married  secondary        1     2343     yes   no   \n",
       "1       56       admin.  married  secondary        1       45      no   no   \n",
       "2       41   technician  married  secondary        1     1270     yes   no   \n",
       "3       55     services  married  secondary        1     2476     yes   no   \n",
       "4       54       admin.  married   tertiary        1      184      no   no   \n",
       "...    ...          ...      ...        ...      ...      ...     ...  ...   \n",
       "11157   33  blue-collar   single    primary        0        1     yes   no   \n",
       "11158   39     services  married  secondary        0      733      no   no   \n",
       "11159   32   technician   single  secondary        0       29      no   no   \n",
       "11160   43   technician  married  secondary        0        0      no  yes   \n",
       "11161   34   technician  married  secondary        0        0      no   no   \n",
       "\n",
       "        contact  day month  duration  campaign  pdays  previous poutcome  \\\n",
       "0       unknown    5   may      1042         1     -1         0  unknown   \n",
       "1       unknown    5   may      1467         1     -1         0  unknown   \n",
       "2       unknown    5   may      1389         1     -1         0  unknown   \n",
       "3       unknown    5   may       579         1     -1         0  unknown   \n",
       "4       unknown    5   may       673         2     -1         0  unknown   \n",
       "...         ...  ...   ...       ...       ...    ...       ...      ...   \n",
       "11157  cellular   20   apr       257         1     -1         0  unknown   \n",
       "11158   unknown   16   jun        83         4     -1         0  unknown   \n",
       "11159  cellular   19   aug       156         2     -1         0  unknown   \n",
       "11160  cellular    8   may         9         2    172         5  failure   \n",
       "11161  cellular    9   jul       628         1     -1         0  unknown   \n",
       "\n",
       "      deposit  \n",
       "0         yes  \n",
       "1         yes  \n",
       "2         yes  \n",
       "3         yes  \n",
       "4         yes  \n",
       "...       ...  \n",
       "11157      no  \n",
       "11158      no  \n",
       "11159      no  \n",
       "11160      no  \n",
       "11161      no  \n",
       "\n",
       "[11162 rows x 17 columns]"
      ]
     },
     "execution_count": 32,
     "metadata": {},
     "output_type": "execute_result"
    }
   ],
   "source": [
    "df"
   ]
  },
  {
   "cell_type": "code",
   "execution_count": 33,
   "id": "3054c742",
   "metadata": {},
   "outputs": [],
   "source": [
    "df1=pd.get_dummies(df, \n",
    "                     columns=[\"job\",\"marital\",\"education\",\"deposit\",\"housing\",\"loan\",\"contact\",\"month\",\"poutcome\"],\n",
    "              drop_first=True)"
   ]
  },
  {
   "cell_type": "code",
   "execution_count": 34,
   "id": "0119e0ce",
   "metadata": {},
   "outputs": [],
   "source": [
    "y=df1[\"default\"]\n",
    "X=df1.drop(columns=[\"default\"])"
   ]
  },
  {
   "cell_type": "code",
   "execution_count": 35,
   "id": "f8b3c85b",
   "metadata": {},
   "outputs": [],
   "source": [
    "from sklearn.model_selection import train_test_split"
   ]
  },
  {
   "cell_type": "code",
   "execution_count": 36,
   "id": "f14c8436",
   "metadata": {},
   "outputs": [],
   "source": [
    "X_train, X_test, y_train, y_test=train_test_split(X,y, test_size=0.3, random_state=99)"
   ]
  },
  {
   "cell_type": "code",
   "execution_count": 37,
   "id": "5f7bdef3",
   "metadata": {},
   "outputs": [],
   "source": [
    "log=LogisticRegression(random_state=99)"
   ]
  },
  {
   "cell_type": "code",
   "execution_count": 39,
   "id": "47d7854d",
   "metadata": {},
   "outputs": [
    {
     "data": {
      "text/plain": [
       "LogisticRegression(random_state=99)"
      ]
     },
     "execution_count": 39,
     "metadata": {},
     "output_type": "execute_result"
    }
   ],
   "source": [
    "log.fit(X_train, y_train)"
   ]
  },
  {
   "cell_type": "code",
   "execution_count": 40,
   "id": "1bf47be4",
   "metadata": {},
   "outputs": [
    {
     "name": "stdout",
     "output_type": "stream",
     "text": [
      "Train Accuracy 0.9077179060540126\n"
     ]
    }
   ],
   "source": [
    "print(\"Train Accuracy\", log.score(X_train, y_train))"
   ]
  },
  {
   "cell_type": "code",
   "execution_count": 41,
   "id": "e43e6141",
   "metadata": {},
   "outputs": [
    {
     "name": "stdout",
     "output_type": "stream",
     "text": [
      "Test Accuracy 0.895491191400418\n"
     ]
    }
   ],
   "source": [
    "print(\"Test Accuracy\", log.score(X_test, y_test))"
   ]
  },
  {
   "cell_type": "code",
   "execution_count": 42,
   "id": "0ac5f5e5",
   "metadata": {},
   "outputs": [],
   "source": [
    "pred_y_train=log.predict(X_train)  # It predict Classes"
   ]
  },
  {
   "cell_type": "code",
   "execution_count": 43,
   "id": "52ff3e19",
   "metadata": {},
   "outputs": [],
   "source": [
    "pred_y_test=log.predict(X_test) # It predict Classes"
   ]
  },
  {
   "cell_type": "code",
   "execution_count": 45,
   "id": "a4fc920d",
   "metadata": {},
   "outputs": [],
   "source": [
    "from sklearn import metrics"
   ]
  },
  {
   "cell_type": "code",
   "execution_count": 46,
   "id": "76d56e6c",
   "metadata": {},
   "outputs": [
    {
     "name": "stdout",
     "output_type": "stream",
     "text": [
      "              precision    recall  f1-score   support\n",
      "\n",
      "           0       0.94      0.88      0.91      4135\n",
      "           1       0.87      0.94      0.91      3678\n",
      "\n",
      "    accuracy                           0.91      7813\n",
      "   macro avg       0.91      0.91      0.91      7813\n",
      "weighted avg       0.91      0.91      0.91      7813\n",
      "\n"
     ]
    }
   ],
   "source": [
    "print(metrics.classification_report(y_train, pred_y_train))"
   ]
  },
  {
   "cell_type": "code",
   "execution_count": 47,
   "id": "52186f22",
   "metadata": {},
   "outputs": [
    {
     "name": "stdout",
     "output_type": "stream",
     "text": [
      "              precision    recall  f1-score   support\n",
      "\n",
      "           0       0.93      0.86      0.90      1738\n",
      "           1       0.86      0.93      0.90      1611\n",
      "\n",
      "    accuracy                           0.90      3349\n",
      "   macro avg       0.90      0.90      0.90      3349\n",
      "weighted avg       0.90      0.90      0.90      3349\n",
      "\n"
     ]
    }
   ],
   "source": [
    "print(metrics.classification_report(y_test, pred_y_test))"
   ]
  },
  {
   "cell_type": "code",
   "execution_count": 48,
   "id": "407df009",
   "metadata": {},
   "outputs": [
    {
     "name": "stdout",
     "output_type": "stream",
     "text": [
      "              precision    recall  f1-score   support\n",
      "\n",
      "           0       0.97      0.46      0.62      4135\n",
      "           1       0.62      0.98      0.76      3678\n",
      "\n",
      "    accuracy                           0.70      7813\n",
      "   macro avg       0.79      0.72      0.69      7813\n",
      "weighted avg       0.80      0.70      0.69      7813\n",
      "\n",
      "++++++++++++++++++++++++++++++++++++++++++++++++++++\n",
      "              precision    recall  f1-score   support\n",
      "\n",
      "           0       0.97      0.46      0.62      1738\n",
      "           1       0.63      0.98      0.77      1611\n",
      "\n",
      "    accuracy                           0.71      3349\n",
      "   macro avg       0.80      0.72      0.70      3349\n",
      "weighted avg       0.81      0.71      0.69      3349\n",
      "\n"
     ]
    }
   ],
   "source": [
    "probs_train=pd.DataFrame(log.predict_proba(X_train), columns=[\"Prob_0\", \"Prob_1\"]) # It predict Probability of 1 and 0\n",
    "probs_test=pd.DataFrame(log.predict_proba(X_test), columns=[\"Prob_0\", \"Prob_1\"]) # It predict Probability of 1 and 0\n",
    "new_pred_y_train=np.where(probs_train[\"Prob_1\"]>=0.27,1,0)\n",
    "# new_pred_y_train\n",
    "new_pred_y_test=np.where(probs_test[\"Prob_1\"]>=0.27,1,0)\n",
    "# new_pred_y_test\n",
    "print(metrics.classification_report(y_train, new_pred_y_train))\n",
    "print(\"++++++++++++++++++++++++++++++++++++++++++++++++++++\")\n",
    "print(metrics.classification_report(y_test, new_pred_y_test))"
   ]
  },
  {
   "cell_type": "code",
   "execution_count": 49,
   "id": "d753c767",
   "metadata": {},
   "outputs": [
    {
     "name": "stdout",
     "output_type": "stream",
     "text": [
      "              precision    recall  f1-score   support\n",
      "\n",
      "           0       0.96      0.20      0.33      4135\n",
      "           1       0.52      0.99      0.69      3678\n",
      "\n",
      "    accuracy                           0.57      7813\n",
      "   macro avg       0.74      0.60      0.51      7813\n",
      "weighted avg       0.75      0.57      0.50      7813\n",
      "\n",
      "++++++++++++++++++++++++++++++++++++++++++++++++++++\n",
      "              precision    recall  f1-score   support\n",
      "\n",
      "           0       0.96      0.21      0.35      1738\n",
      "           1       0.54      0.99      0.70      1611\n",
      "\n",
      "    accuracy                           0.59      3349\n",
      "   macro avg       0.75      0.60      0.52      3349\n",
      "weighted avg       0.76      0.59      0.52      3349\n",
      "\n"
     ]
    }
   ],
   "source": [
    "probs_train=pd.DataFrame(log.predict_proba(X_train), columns=[\"Prob_0\", \"Prob_1\"]) # It predict Probability of 1 and 0\n",
    "probs_test=pd.DataFrame(log.predict_proba(X_test), columns=[\"Prob_0\", \"Prob_1\"]) # It predict Probability of 1 and 0\n",
    "new_pred_y_train=np.where(probs_train[\"Prob_1\"]>=0.16,1,0)\n",
    "# new_pred_y_train\n",
    "new_pred_y_test=np.where(probs_test[\"Prob_1\"]>=0.16,1,0)\n",
    "# new_pred_y_test\n",
    "print(metrics.classification_report(y_train, new_pred_y_train))\n",
    "print(\"++++++++++++++++++++++++++++++++++++++++++++++++++++\")\n",
    "print(metrics.classification_report(y_test, new_pred_y_test))\n"
   ]
  },
  {
   "cell_type": "code",
   "execution_count": null,
   "id": "c605e850",
   "metadata": {},
   "outputs": [],
   "source": []
  },
  {
   "cell_type": "code",
   "execution_count": null,
   "id": "61f5b9b5",
   "metadata": {},
   "outputs": [],
   "source": []
  },
  {
   "cell_type": "code",
   "execution_count": null,
   "id": "ad5b0413",
   "metadata": {},
   "outputs": [],
   "source": []
  },
  {
   "cell_type": "code",
   "execution_count": null,
   "id": "b3edeb7b",
   "metadata": {},
   "outputs": [],
   "source": []
  },
  {
   "cell_type": "code",
   "execution_count": null,
   "id": "3319e733",
   "metadata": {},
   "outputs": [],
   "source": []
  },
  {
   "cell_type": "code",
   "execution_count": null,
   "id": "12e5d9c3",
   "metadata": {},
   "outputs": [],
   "source": []
  },
  {
   "cell_type": "code",
   "execution_count": null,
   "id": "0a42cda3",
   "metadata": {},
   "outputs": [],
   "source": []
  },
  {
   "cell_type": "code",
   "execution_count": null,
   "id": "216e4c79",
   "metadata": {},
   "outputs": [],
   "source": []
  }
 ],
 "metadata": {
  "kernelspec": {
   "display_name": "Python 3 (ipykernel)",
   "language": "python",
   "name": "python3"
  },
  "language_info": {
   "codemirror_mode": {
    "name": "ipython",
    "version": 3
   },
   "file_extension": ".py",
   "mimetype": "text/x-python",
   "name": "python",
   "nbconvert_exporter": "python",
   "pygments_lexer": "ipython3",
   "version": "3.9.7"
  }
 },
 "nbformat": 4,
 "nbformat_minor": 5
}
